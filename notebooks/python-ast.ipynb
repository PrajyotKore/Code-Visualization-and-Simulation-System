{
 "cells": [
  {
   "cell_type": "code",
   "execution_count": 1,
   "metadata": {},
   "outputs": [
    {
     "name": "stdout",
     "output_type": "stream",
     "text": [
      "Module(\n",
      "    body=[\n",
      "        FunctionDef(\n",
      "            name='greet',\n",
      "            args=arguments(\n",
      "                posonlyargs=[],\n",
      "                args=[\n",
      "                    arg(arg='name')],\n",
      "                kwonlyargs=[],\n",
      "                kw_defaults=[],\n",
      "                defaults=[]),\n",
      "            body=[\n",
      "                Expr(\n",
      "                    value=Call(\n",
      "                        func=Name(id='print', ctx=Load()),\n",
      "                        args=[\n",
      "                            JoinedStr(\n",
      "                                values=[\n",
      "                                    Constant(value='Hello, '),\n",
      "                                    FormattedValue(\n",
      "                                        value=Name(id='name', ctx=Load()),\n",
      "                                        conversion=-1),\n",
      "                                    Constant(value='!')])],\n",
      "                        keywords=[]))],\n",
      "            decorator_list=[]),\n",
      "        Expr(\n",
      "            value=Call(\n",
      "                func=Name(id='greet', ctx=Load()),\n",
      "                args=[\n",
      "                    Constant(value='World')],\n",
      "                keywords=[]))],\n",
      "    type_ignores=[])\n",
      "Function Name: greet\n",
      "Arguments: ['name']\n"
     ]
    }
   ],
   "source": [
    "import ast\n",
    "\n",
    "# Sample Python code to parse\n",
    "code = \"\"\"\n",
    "def greet(name):\n",
    "    print(f\"Hello, {name}!\")\n",
    "\n",
    "greet(\"World\")\n",
    "\"\"\"\n",
    "\n",
    "# Parse the code into an AST\n",
    "tree = ast.parse(code)\n",
    "\n",
    "# Pretty-print the AST structure\n",
    "print(ast.dump(tree, indent=4))\n",
    "\n",
    "# Walk through the tree and find function definitions\n",
    "for node in ast.walk(tree):\n",
    "    if isinstance(node, ast.FunctionDef):\n",
    "        print(f\"Function Name: {node.name}\")\n",
    "        print(f\"Arguments: {[arg.arg for arg in node.args.args]}\")\n"
   ]
  },
  {
   "cell_type": "code",
   "execution_count": null,
   "metadata": {},
   "outputs": [],
   "source": []
  }
 ],
 "metadata": {
  "kernelspec": {
   "display_name": "Python 3",
   "language": "python",
   "name": "python3"
  },
  "language_info": {
   "codemirror_mode": {
    "name": "ipython",
    "version": 3
   },
   "file_extension": ".py",
   "mimetype": "text/x-python",
   "name": "python",
   "nbconvert_exporter": "python",
   "pygments_lexer": "ipython3",
   "version": "3.10.0"
  }
 },
 "nbformat": 4,
 "nbformat_minor": 2
}
